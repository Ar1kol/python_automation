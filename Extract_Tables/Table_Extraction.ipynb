{
  "cells": [
    {
      "cell_type": "markdown",
      "metadata": {
        "id": "2dDdLQeFEL9Y"
      },
      "source": [
        "Extract Tables from Websites"
      ]
    },
    {
      "cell_type": "code",
      "execution_count": null,
      "metadata": {
        "id": "_iqhi5R_A9D9"
      },
      "outputs": [],
      "source": [
        "import pandas as pd\n",
        "\n",
        "simpsons = pd.read_html(\"https://en.wikipedia.org/wiki/List_of_The_Simpsons_episodes_(seasons_1%E2%80%9320)\")\n"
      ]
    },
    {
      "cell_type": "code",
      "execution_count": null,
      "metadata": {
        "id": "v1-Hw_6MBfdO"
      },
      "outputs": [],
      "source": [
        "len(simpsons)"
      ]
    },
    {
      "cell_type": "code",
      "execution_count": null,
      "metadata": {
        "id": "UpyLEy_-DR7Y"
      },
      "outputs": [],
      "source": [
        "simpsons[1]"
      ]
    },
    {
      "cell_type": "code",
      "execution_count": 7,
      "metadata": {
        "id": "CrZiTNesEXT0"
      },
      "outputs": [],
      "source": [
        "df_premier22 = pd.read_csv(\"https://football-data.co.uk/mmz4281/2223/E0.csv\")"
      ]
    },
    {
      "cell_type": "code",
      "execution_count": 9,
      "metadata": {
        "id": "Yr283neSFWeK"
      },
      "outputs": [],
      "source": [
        "df_premier22.rename(columns={\"FTHG\":\"home_goals\", \"FTAG\":\"away_goals\"}, inplace=True)"
      ]
    },
    {
      "cell_type": "code",
      "execution_count": null,
      "metadata": {
        "id": "f8YR-NuvF4CF"
      },
      "outputs": [],
      "source": [
        "df_premier22"
      ]
    }
  ],
  "metadata": {
    "colab": {
      "provenance": []
    },
    "kernelspec": {
      "display_name": "venv",
      "language": "python",
      "name": "python3"
    },
    "language_info": {
      "name": "python",
      "version": "3.10.5 (tags/v3.10.5:f377153, Jun  6 2022, 16:14:13) [MSC v.1929 64 bit (AMD64)]"
    },
    "vscode": {
      "interpreter": {
        "hash": "52716c8b2226e1edcfcc0418e0c4e28439d3fd87c85ee4b96a3459046703e2bc"
      }
    }
  },
  "nbformat": 4,
  "nbformat_minor": 0
}
